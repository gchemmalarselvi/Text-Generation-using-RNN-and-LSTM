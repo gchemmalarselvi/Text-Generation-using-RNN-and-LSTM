{
 "cells": [
  {
   "cell_type": "markdown",
   "metadata": {
    "id": "29r8iQ6nNDfV"
   },
   "source": [
    "## Recurrent neural network (RNN):                                        "
   ]
  },
  {
   "cell_type": "code",
   "execution_count": null,
   "metadata": {
    "id": "5JCuYJmitjfo"
   },
   "outputs": [],
   "source": [
    "#importing necessary libraries for RNN Text Generation using tensorflow, numpy\n",
    "import tensorflow as tf\n",
    "\n",
    "#Numpy win the context of RNN will help in converting Sequential Text Data to Vectorized Text Data for the Numerical representation of Data\n",
    "import numpy as np\n",
    "\n",
    "# For creating checkpoints and use the latest check with least lose fucntion to generate the text\n",
    "import os\n",
    "import time"
   ]
  },
  {
   "cell_type": "markdown",
   "metadata": {
    "id": "T-VCiTiILt7b"
   },
   "source": [
    "Importing the **hound of the baskervilles by Arthur Conan Doyle** file into the colab environment."
   ]
  },
  {
   "cell_type": "code",
   "execution_count": null,
   "metadata": {
    "colab": {
     "base_uri": "https://localhost:8080/",
     "height": 72,
     "resources": {
      "http://localhost:8080/nbextensions/google.colab/files.js": {
       "data": "Ly8gQ29weXJpZ2h0IDIwMTcgR29vZ2xlIExMQwovLwovLyBMaWNlbnNlZCB1bmRlciB0aGUgQXBhY2hlIExpY2Vuc2UsIFZlcnNpb24gMi4wICh0aGUgIkxpY2Vuc2UiKTsKLy8geW91IG1heSBub3QgdXNlIHRoaXMgZmlsZSBleGNlcHQgaW4gY29tcGxpYW5jZSB3aXRoIHRoZSBMaWNlbnNlLgovLyBZb3UgbWF5IG9idGFpbiBhIGNvcHkgb2YgdGhlIExpY2Vuc2UgYXQKLy8KLy8gICAgICBodHRwOi8vd3d3LmFwYWNoZS5vcmcvbGljZW5zZXMvTElDRU5TRS0yLjAKLy8KLy8gVW5sZXNzIHJlcXVpcmVkIGJ5IGFwcGxpY2FibGUgbGF3IG9yIGFncmVlZCB0byBpbiB3cml0aW5nLCBzb2Z0d2FyZQovLyBkaXN0cmlidXRlZCB1bmRlciB0aGUgTGljZW5zZSBpcyBkaXN0cmlidXRlZCBvbiBhbiAiQVMgSVMiIEJBU0lTLAovLyBXSVRIT1VUIFdBUlJBTlRJRVMgT1IgQ09ORElUSU9OUyBPRiBBTlkgS0lORCwgZWl0aGVyIGV4cHJlc3Mgb3IgaW1wbGllZC4KLy8gU2VlIHRoZSBMaWNlbnNlIGZvciB0aGUgc3BlY2lmaWMgbGFuZ3VhZ2UgZ292ZXJuaW5nIHBlcm1pc3Npb25zIGFuZAovLyBsaW1pdGF0aW9ucyB1bmRlciB0aGUgTGljZW5zZS4KCi8qKgogKiBAZmlsZW92ZXJ2aWV3IEhlbHBlcnMgZm9yIGdvb2dsZS5jb2xhYiBQeXRob24gbW9kdWxlLgogKi8KKGZ1bmN0aW9uKHNjb3BlKSB7CmZ1bmN0aW9uIHNwYW4odGV4dCwgc3R5bGVBdHRyaWJ1dGVzID0ge30pIHsKICBjb25zdCBlbGVtZW50ID0gZG9jdW1lbnQuY3JlYXRlRWxlbWVudCgnc3BhbicpOwogIGVsZW1lbnQudGV4dENvbnRlbnQgPSB0ZXh0OwogIGZvciAoY29uc3Qga2V5IG9mIE9iamVjdC5rZXlzKHN0eWxlQXR0cmlidXRlcykpIHsKICAgIGVsZW1lbnQuc3R5bGVba2V5XSA9IHN0eWxlQXR0cmlidXRlc1trZXldOwogIH0KICByZXR1cm4gZWxlbWVudDsKfQoKLy8gTWF4IG51bWJlciBvZiBieXRlcyB3aGljaCB3aWxsIGJlIHVwbG9hZGVkIGF0IGEgdGltZS4KY29uc3QgTUFYX1BBWUxPQURfU0laRSA9IDEwMCAqIDEwMjQ7CgpmdW5jdGlvbiBfdXBsb2FkRmlsZXMoaW5wdXRJZCwgb3V0cHV0SWQpIHsKICBjb25zdCBzdGVwcyA9IHVwbG9hZEZpbGVzU3RlcChpbnB1dElkLCBvdXRwdXRJZCk7CiAgY29uc3Qgb3V0cHV0RWxlbWVudCA9IGRvY3VtZW50LmdldEVsZW1lbnRCeUlkKG91dHB1dElkKTsKICAvLyBDYWNoZSBzdGVwcyBvbiB0aGUgb3V0cHV0RWxlbWVudCB0byBtYWtlIGl0IGF2YWlsYWJsZSBmb3IgdGhlIG5leHQgY2FsbAogIC8vIHRvIHVwbG9hZEZpbGVzQ29udGludWUgZnJvbSBQeXRob24uCiAgb3V0cHV0RWxlbWVudC5zdGVwcyA9IHN0ZXBzOwoKICByZXR1cm4gX3VwbG9hZEZpbGVzQ29udGludWUob3V0cHV0SWQpOwp9CgovLyBUaGlzIGlzIHJvdWdobHkgYW4gYXN5bmMgZ2VuZXJhdG9yIChub3Qgc3VwcG9ydGVkIGluIHRoZSBicm93c2VyIHlldCksCi8vIHdoZXJlIHRoZXJlIGFyZSBtdWx0aXBsZSBhc3luY2hyb25vdXMgc3RlcHMgYW5kIHRoZSBQeXRob24gc2lkZSBpcyBnb2luZwovLyB0byBwb2xsIGZvciBjb21wbGV0aW9uIG9mIGVhY2ggc3RlcC4KLy8gVGhpcyB1c2VzIGEgUHJvbWlzZSB0byBibG9jayB0aGUgcHl0aG9uIHNpZGUgb24gY29tcGxldGlvbiBvZiBlYWNoIHN0ZXAsCi8vIHRoZW4gcGFzc2VzIHRoZSByZXN1bHQgb2YgdGhlIHByZXZpb3VzIHN0ZXAgYXMgdGhlIGlucHV0IHRvIHRoZSBuZXh0IHN0ZXAuCmZ1bmN0aW9uIF91cGxvYWRGaWxlc0NvbnRpbnVlKG91dHB1dElkKSB7CiAgY29uc3Qgb3V0cHV0RWxlbWVudCA9IGRvY3VtZW50LmdldEVsZW1lbnRCeUlkKG91dHB1dElkKTsKICBjb25zdCBzdGVwcyA9IG91dHB1dEVsZW1lbnQuc3RlcHM7CgogIGNvbnN0IG5leHQgPSBzdGVwcy5uZXh0KG91dHB1dEVsZW1lbnQubGFzdFByb21pc2VWYWx1ZSk7CiAgcmV0dXJuIFByb21pc2UucmVzb2x2ZShuZXh0LnZhbHVlLnByb21pc2UpLnRoZW4oKHZhbHVlKSA9PiB7CiAgICAvLyBDYWNoZSB0aGUgbGFzdCBwcm9taXNlIHZhbHVlIHRvIG1ha2UgaXQgYXZhaWxhYmxlIHRvIHRoZSBuZXh0CiAgICAvLyBzdGVwIG9mIHRoZSBnZW5lcmF0b3IuCiAgICBvdXRwdXRFbGVtZW50Lmxhc3RQcm9taXNlVmFsdWUgPSB2YWx1ZTsKICAgIHJldHVybiBuZXh0LnZhbHVlLnJlc3BvbnNlOwogIH0pOwp9CgovKioKICogR2VuZXJhdG9yIGZ1bmN0aW9uIHdoaWNoIGlzIGNhbGxlZCBiZXR3ZWVuIGVhY2ggYXN5bmMgc3RlcCBvZiB0aGUgdXBsb2FkCiAqIHByb2Nlc3MuCiAqIEBwYXJhbSB7c3RyaW5nfSBpbnB1dElkIEVsZW1lbnQgSUQgb2YgdGhlIGlucHV0IGZpbGUgcGlja2VyIGVsZW1lbnQuCiAqIEBwYXJhbSB7c3RyaW5nfSBvdXRwdXRJZCBFbGVtZW50IElEIG9mIHRoZSBvdXRwdXQgZGlzcGxheS4KICogQHJldHVybiB7IUl0ZXJhYmxlPCFPYmplY3Q+fSBJdGVyYWJsZSBvZiBuZXh0IHN0ZXBzLgogKi8KZnVuY3Rpb24qIHVwbG9hZEZpbGVzU3RlcChpbnB1dElkLCBvdXRwdXRJZCkgewogIGNvbnN0IGlucHV0RWxlbWVudCA9IGRvY3VtZW50LmdldEVsZW1lbnRCeUlkKGlucHV0SWQpOwogIGlucHV0RWxlbWVudC5kaXNhYmxlZCA9IGZhbHNlOwoKICBjb25zdCBvdXRwdXRFbGVtZW50ID0gZG9jdW1lbnQuZ2V0RWxlbWVudEJ5SWQob3V0cHV0SWQpOwogIG91dHB1dEVsZW1lbnQuaW5uZXJIVE1MID0gJyc7CgogIGNvbnN0IHBpY2tlZFByb21pc2UgPSBuZXcgUHJvbWlzZSgocmVzb2x2ZSkgPT4gewogICAgaW5wdXRFbGVtZW50LmFkZEV2ZW50TGlzdGVuZXIoJ2NoYW5nZScsIChlKSA9PiB7CiAgICAgIHJlc29sdmUoZS50YXJnZXQuZmlsZXMpOwogICAgfSk7CiAgfSk7CgogIGNvbnN0IGNhbmNlbCA9IGRvY3VtZW50LmNyZWF0ZUVsZW1lbnQoJ2J1dHRvbicpOwogIGlucHV0RWxlbWVudC5wYXJlbnRFbGVtZW50LmFwcGVuZENoaWxkKGNhbmNlbCk7CiAgY2FuY2VsLnRleHRDb250ZW50ID0gJ0NhbmNlbCB1cGxvYWQnOwogIGNvbnN0IGNhbmNlbFByb21pc2UgPSBuZXcgUHJvbWlzZSgocmVzb2x2ZSkgPT4gewogICAgY2FuY2VsLm9uY2xpY2sgPSAoKSA9PiB7CiAgICAgIHJlc29sdmUobnVsbCk7CiAgICB9OwogIH0pOwoKICAvLyBXYWl0IGZvciB0aGUgdXNlciB0byBwaWNrIHRoZSBmaWxlcy4KICBjb25zdCBmaWxlcyA9IHlpZWxkIHsKICAgIHByb21pc2U6IFByb21pc2UucmFjZShbcGlja2VkUHJvbWlzZSwgY2FuY2VsUHJvbWlzZV0pLAogICAgcmVzcG9uc2U6IHsKICAgICAgYWN0aW9uOiAnc3RhcnRpbmcnLAogICAgfQogIH07CgogIGNhbmNlbC5yZW1vdmUoKTsKCiAgLy8gRGlzYWJsZSB0aGUgaW5wdXQgZWxlbWVudCBzaW5jZSBmdXJ0aGVyIHBpY2tzIGFyZSBub3QgYWxsb3dlZC4KICBpbnB1dEVsZW1lbnQuZGlzYWJsZWQgPSB0cnVlOwoKICBpZiAoIWZpbGVzKSB7CiAgICByZXR1cm4gewogICAgICByZXNwb25zZTogewogICAgICAgIGFjdGlvbjogJ2NvbXBsZXRlJywKICAgICAgfQogICAgfTsKICB9CgogIGZvciAoY29uc3QgZmlsZSBvZiBmaWxlcykgewogICAgY29uc3QgbGkgPSBkb2N1bWVudC5jcmVhdGVFbGVtZW50KCdsaScpOwogICAgbGkuYXBwZW5kKHNwYW4oZmlsZS5uYW1lLCB7Zm9udFdlaWdodDogJ2JvbGQnfSkpOwogICAgbGkuYXBwZW5kKHNwYW4oCiAgICAgICAgYCgke2ZpbGUudHlwZSB8fCAnbi9hJ30pIC0gJHtmaWxlLnNpemV9IGJ5dGVzLCBgICsKICAgICAgICBgbGFzdCBtb2RpZmllZDogJHsKICAgICAgICAgICAgZmlsZS5sYXN0TW9kaWZpZWREYXRlID8gZmlsZS5sYXN0TW9kaWZpZWREYXRlLnRvTG9jYWxlRGF0ZVN0cmluZygpIDoKICAgICAgICAgICAgICAgICAgICAgICAgICAgICAgICAgICAgJ24vYSd9IC0gYCkpOwogICAgY29uc3QgcGVyY2VudCA9IHNwYW4oJzAlIGRvbmUnKTsKICAgIGxpLmFwcGVuZENoaWxkKHBlcmNlbnQpOwoKICAgIG91dHB1dEVsZW1lbnQuYXBwZW5kQ2hpbGQobGkpOwoKICAgIGNvbnN0IGZpbGVEYXRhUHJvbWlzZSA9IG5ldyBQcm9taXNlKChyZXNvbHZlKSA9PiB7CiAgICAgIGNvbnN0IHJlYWRlciA9IG5ldyBGaWxlUmVhZGVyKCk7CiAgICAgIHJlYWRlci5vbmxvYWQgPSAoZSkgPT4gewogICAgICAgIHJlc29sdmUoZS50YXJnZXQucmVzdWx0KTsKICAgICAgfTsKICAgICAgcmVhZGVyLnJlYWRBc0FycmF5QnVmZmVyKGZpbGUpOwogICAgfSk7CiAgICAvLyBXYWl0IGZvciB0aGUgZGF0YSB0byBiZSByZWFkeS4KICAgIGxldCBmaWxlRGF0YSA9IHlpZWxkIHsKICAgICAgcHJvbWlzZTogZmlsZURhdGFQcm9taXNlLAogICAgICByZXNwb25zZTogewogICAgICAgIGFjdGlvbjogJ2NvbnRpbnVlJywKICAgICAgfQogICAgfTsKCiAgICAvLyBVc2UgYSBjaHVua2VkIHNlbmRpbmcgdG8gYXZvaWQgbWVzc2FnZSBzaXplIGxpbWl0cy4gU2VlIGIvNjIxMTU2NjAuCiAgICBsZXQgcG9zaXRpb24gPSAwOwogICAgZG8gewogICAgICBjb25zdCBsZW5ndGggPSBNYXRoLm1pbihmaWxlRGF0YS5ieXRlTGVuZ3RoIC0gcG9zaXRpb24sIE1BWF9QQVlMT0FEX1NJWkUpOwogICAgICBjb25zdCBjaHVuayA9IG5ldyBVaW50OEFycmF5KGZpbGVEYXRhLCBwb3NpdGlvbiwgbGVuZ3RoKTsKICAgICAgcG9zaXRpb24gKz0gbGVuZ3RoOwoKICAgICAgY29uc3QgYmFzZTY0ID0gYnRvYShTdHJpbmcuZnJvbUNoYXJDb2RlLmFwcGx5KG51bGwsIGNodW5rKSk7CiAgICAgIHlpZWxkIHsKICAgICAgICByZXNwb25zZTogewogICAgICAgICAgYWN0aW9uOiAnYXBwZW5kJywKICAgICAgICAgIGZpbGU6IGZpbGUubmFtZSwKICAgICAgICAgIGRhdGE6IGJhc2U2NCwKICAgICAgICB9LAogICAgICB9OwoKICAgICAgbGV0IHBlcmNlbnREb25lID0gZmlsZURhdGEuYnl0ZUxlbmd0aCA9PT0gMCA/CiAgICAgICAgICAxMDAgOgogICAgICAgICAgTWF0aC5yb3VuZCgocG9zaXRpb24gLyBmaWxlRGF0YS5ieXRlTGVuZ3RoKSAqIDEwMCk7CiAgICAgIHBlcmNlbnQudGV4dENvbnRlbnQgPSBgJHtwZXJjZW50RG9uZX0lIGRvbmVgOwoKICAgIH0gd2hpbGUgKHBvc2l0aW9uIDwgZmlsZURhdGEuYnl0ZUxlbmd0aCk7CiAgfQoKICAvLyBBbGwgZG9uZS4KICB5aWVsZCB7CiAgICByZXNwb25zZTogewogICAgICBhY3Rpb246ICdjb21wbGV0ZScsCiAgICB9CiAgfTsKfQoKc2NvcGUuZ29vZ2xlID0gc2NvcGUuZ29vZ2xlIHx8IHt9OwpzY29wZS5nb29nbGUuY29sYWIgPSBzY29wZS5nb29nbGUuY29sYWIgfHwge307CnNjb3BlLmdvb2dsZS5jb2xhYi5fZmlsZXMgPSB7CiAgX3VwbG9hZEZpbGVzLAogIF91cGxvYWRGaWxlc0NvbnRpbnVlLAp9Owp9KShzZWxmKTsK",
       "headers": [
        [
         "content-type",
         "application/javascript"
        ]
       ],
       "ok": true,
       "status": 200,
       "status_text": ""
      }
     }
    },
    "id": "DdDEdWGBNxjZ",
    "outputId": "da196473-5c0a-4f39-db1c-cd4a4d79e2e9"
   },
   "outputs": [
    {
     "data": {
      "text/html": [
       "\n",
       "     <input type=\"file\" id=\"files-bfc95163-3127-45ed-9559-8c7cdfdf3902\" name=\"files[]\" multiple disabled\n",
       "        style=\"border:none\" />\n",
       "     <output id=\"result-bfc95163-3127-45ed-9559-8c7cdfdf3902\">\n",
       "      Upload widget is only available when the cell has been executed in the\n",
       "      current browser session. Please rerun this cell to enable.\n",
       "      </output>\n",
       "      <script src=\"/nbextensions/google.colab/files.js\"></script> "
      ],
      "text/plain": [
       "<IPython.core.display.HTML object>"
      ]
     },
     "metadata": {},
     "output_type": "display_data"
    },
    {
     "name": "stdout",
     "output_type": "stream",
     "text": [
      "Saving hound.txt to hound.txt\n"
     ]
    }
   ],
   "source": [
    "from google.colab import files\n",
    "uploaded = files.upload()"
   ]
  },
  {
   "cell_type": "markdown",
   "metadata": {
    "id": "Ak3FxZLKOtjj"
   },
   "source": [
    "Reading the File and Printing the number of characters from Text File"
   ]
  },
  {
   "cell_type": "code",
   "execution_count": null,
   "metadata": {
    "colab": {
     "base_uri": "https://localhost:8080/"
    },
    "id": "-kNnacCoNzCU",
    "outputId": "6f69d94f-4b6f-476f-c05f-7fe9bb0815a2"
   },
   "outputs": [
    {
     "name": "stdout",
     "output_type": "stream",
     "text": [
      "Length of text: 328031 characters\n"
     ]
    }
   ],
   "source": [
    "# Read, then decode for UTF Compact.\n",
    "text = open('hound.txt', 'rb').read().decode(encoding='utf-8')\n",
    "\n",
    "# length of text is the number of characters in it\n",
    "print ('Length of text: {} characters'.format(len(text)))"
   ]
  },
  {
   "cell_type": "markdown",
   "metadata": {
    "id": "Vy8pQYp3OyqA"
   },
   "source": [
    "Printing the sample from the Text File"
   ]
  },
  {
   "cell_type": "code",
   "execution_count": null,
   "metadata": {
    "colab": {
     "base_uri": "https://localhost:8080/"
    },
    "id": "Q8fG8ArIOG1L",
    "outputId": "e5000767-9b75-42a1-e64f-760136a23f74"
   },
   "outputs": [
    {
     "name": "stdout",
     "output_type": "stream",
     "text": [
      ":.:.:.:.:.:.:.:.:.:.:.:.:.:.:.:.:.:.:.:.:.:.:.:.:.:.:.:.:.:.:\r\n",
      "         -----=====Earth's Dreamlands=====-----\r\n",
      "           (313)558-5024 {14.4} (313)558-5517\r\n",
      "              A BBS for text file junkies\r\n",
      "              RPGNet GM File Archive Site\r\n",
      ".:.:.:.:.:.:.:.:.:.:.:.:.:.:.:.:.:.:.:.:.:.:.:.:.:.:.:.:.:.:.\r\n",
      "\r\n",
      "                      Chapter 1\r\n",
      "                 Mr. Sherlock Holmes\r\n",
      "\r\n",
      "  Mr. Sherlock Holmes, who was usually very late in the\r\n",
      "mornings, save upon those not infrequent occasions when he was\r\n",
      "up all night, was seated at the breakfast table. I stood upon the\r\n",
      "hearth-rug and picked up the stick which our visitor had left\r\n",
      "behind him the night before. It was a fine, thick piece of wood,\r\n",
      "bulbous-headed, of the sort which is known as a \"Penang law-\r\n",
      "yer.\" Just under the head was a broad silver band nearly an inch\r\n",
      "across. \"To James Mortimer, M.R.C.S., from his friends of the\r\n",
      "C.C.H.,\" was engraved upon it, with the date \"1884.\" It was\r\n",
      "just such a stick as the old-fashioned family pr\n"
     ]
    }
   ],
   "source": [
    "#Printing the Sample first 1000 characters for the text file\n",
    "print(text[:1000])"
   ]
  },
  {
   "cell_type": "markdown",
   "metadata": {
    "id": "0--cOi18O838"
   },
   "source": [
    "Sorting and Finding the unique characters (To analyze the distinct values which will be helpful in text generation)"
   ]
  },
  {
   "cell_type": "code",
   "execution_count": null,
   "metadata": {
    "colab": {
     "base_uri": "https://localhost:8080/"
    },
    "id": "IJWlOgdlOPYu",
    "outputId": "bbe4cb83-b470-4994-aec2-595a10733c51"
   },
   "outputs": [
    {
     "name": "stdout",
     "output_type": "stream",
     "text": [
      "81 unique characters\n"
     ]
    }
   ],
   "source": [
    "# Passing the text to set which will make the distinct characters and sort based the available words\n",
    "vocab = sorted(set(text))\n",
    "\n",
    "# Format will print the unique length of the characters\n",
    "print ('{} unique characters'.format(len(vocab)))"
   ]
  },
  {
   "cell_type": "markdown",
   "metadata": {
    "id": "CY6qbVC_Pc1v"
   },
   "source": [
    "Text as Int and creating a mapping to indices"
   ]
  },
  {
   "cell_type": "code",
   "execution_count": null,
   "metadata": {
    "colab": {
     "base_uri": "https://localhost:8080/"
    },
    "id": "DsTjntqNYexg",
    "outputId": "171096d4-eae6-4e8f-cd06-ad442e7a126c"
   },
   "outputs": [
    {
     "data": {
      "text/plain": [
       "{'\\n': 0,\n",
       " '\\r': 1,\n",
       " '\\x1a': 2,\n",
       " ' ': 3,\n",
       " '!': 4,\n",
       " '\"': 5,\n",
       " \"'\": 6,\n",
       " '(': 7,\n",
       " ')': 8,\n",
       " ',': 9,\n",
       " '-': 10,\n",
       " '.': 11,\n",
       " '0': 12,\n",
       " '1': 13,\n",
       " '2': 14,\n",
       " '3': 15,\n",
       " '4': 16,\n",
       " '5': 17,\n",
       " '6': 18,\n",
       " '7': 19,\n",
       " '8': 20,\n",
       " '9': 21,\n",
       " ':': 22,\n",
       " ';': 23,\n",
       " '=': 24,\n",
       " '?': 25,\n",
       " 'A': 26,\n",
       " 'B': 27,\n",
       " 'C': 28,\n",
       " 'D': 29,\n",
       " 'E': 30,\n",
       " 'F': 31,\n",
       " 'G': 32,\n",
       " 'H': 33,\n",
       " 'I': 34,\n",
       " 'J': 35,\n",
       " 'K': 36,\n",
       " 'L': 37,\n",
       " 'M': 38,\n",
       " 'N': 39,\n",
       " 'O': 40,\n",
       " 'P': 41,\n",
       " 'Q': 42,\n",
       " 'R': 43,\n",
       " 'S': 44,\n",
       " 'T': 45,\n",
       " 'U': 46,\n",
       " 'V': 47,\n",
       " 'W': 48,\n",
       " 'Y': 49,\n",
       " '[': 50,\n",
       " ']': 51,\n",
       " 'a': 52,\n",
       " 'b': 53,\n",
       " 'c': 54,\n",
       " 'd': 55,\n",
       " 'e': 56,\n",
       " 'f': 57,\n",
       " 'g': 58,\n",
       " 'h': 59,\n",
       " 'i': 60,\n",
       " 'j': 61,\n",
       " 'k': 62,\n",
       " 'l': 63,\n",
       " 'm': 64,\n",
       " 'n': 65,\n",
       " 'o': 66,\n",
       " 'p': 67,\n",
       " 'q': 68,\n",
       " 'r': 69,\n",
       " 's': 70,\n",
       " 't': 71,\n",
       " 'u': 72,\n",
       " 'v': 73,\n",
       " 'w': 74,\n",
       " 'x': 75,\n",
       " 'y': 76,\n",
       " 'z': 77,\n",
       " '{': 78,\n",
       " '}': 79,\n",
       " '~': 80}"
      ]
     },
     "execution_count": 6,
     "metadata": {},
     "output_type": "execute_result"
    }
   ],
   "source": [
    "# Creating a mapping from unique characters to indices\n",
    "char2idx = {u:i for i, u in enumerate(vocab)}\n",
    "idx2char = np.array(vocab)\n",
    "\n",
    "#text_as_int\n",
    "text_as_int = np.array([char2idx[c] for c in text])\n",
    "char2idx\n",
    "\n",
    "# Each Character will be assigned with unique number value"
   ]
  },
  {
   "cell_type": "markdown",
   "metadata": {
    "id": "3JhLn0kaQP72"
   },
   "source": [
    "The prediction task\n",
    "\n",
    "The task we are training the model to perform is regarding the most probable next character.\n",
    "\n",
    "The input to the model will be a sequence of characters, and we train the model to predict the output—the following character at each time step.\n",
    "\n",
    "Since RNNs maintain an internal state that depends on the previously seen elements, given all the characters computed until this moment, what is the next character?\n",
    "\n",
    "Create training examples and targets\n",
    "\n",
    "Next divide the text into example sequences. Each input sequence will contain seq_length characters from the text.\n",
    "\n",
    "For each input sequence, the corresponding targets contain the same length of text, except shifted one character to the right.\n",
    "\n",
    "So break the text into chunks of seq_length+1. For example, say seq_length is 4 and our text is \"Hello\". The input sequence would be \"Hell\", and the target sequence \"ello\".\n",
    "\n",
    "To do this first use the tf.data.Dataset.from_tensor_slices function to convert the text vector into a stream of character indices."
   ]
  },
  {
   "cell_type": "code",
   "execution_count": null,
   "metadata": {
    "colab": {
     "base_uri": "https://localhost:8080/"
    },
    "id": "sCStkthSYgVh",
    "outputId": "e3a5c077-e7f4-42df-e2cd-a659ae119a06"
   },
   "outputs": [
    {
     "name": "stdout",
     "output_type": "stream",
     "text": [
      ":\n",
      ".\n",
      ":\n",
      ".\n",
      ":\n",
      ".\n",
      ":\n",
      ".\n",
      ":\n",
      ".\n",
      ":\n",
      ".\n",
      ":\n",
      ".\n",
      ":\n",
      ".\n",
      ":\n",
      ".\n",
      ":\n",
      ".\n",
      ":\n",
      ".\n",
      ":\n",
      ".\n",
      ":\n",
      ".\n",
      ":\n",
      ".\n",
      ":\n",
      ".\n",
      ":\n",
      ".\n",
      ":\n",
      ".\n",
      ":\n",
      ".\n",
      ":\n",
      ".\n",
      ":\n",
      ".\n",
      ":\n",
      ".\n",
      ":\n",
      ".\n",
      ":\n",
      ".\n",
      ":\n",
      ".\n",
      ":\n",
      ".\n",
      ":\n",
      ".\n",
      ":\n",
      ".\n",
      ":\n",
      ".\n",
      ":\n",
      ".\n",
      ":\n",
      ".\n",
      ":\n",
      "\r\n",
      "\n",
      "\n",
      " \n",
      " \n",
      " \n",
      " \n",
      " \n",
      " \n",
      " \n",
      " \n",
      " \n",
      "-\n",
      "-\n",
      "-\n",
      "-\n",
      "-\n",
      "=\n",
      "=\n",
      "=\n",
      "=\n",
      "=\n",
      "E\n",
      "a\n",
      "r\n",
      "t\n",
      "h\n",
      "'\n",
      "s\n",
      " \n",
      "D\n",
      "r\n",
      "e\n",
      "a\n",
      "m\n",
      "l\n",
      "a\n",
      "n\n",
      "d\n",
      "s\n"
     ]
    }
   ],
   "source": [
    "# The maximum length sentence we want for a single input in characters\n",
    "seq_length = 100\n",
    "examples_per_epoch = len(text)//(seq_length+1)\n",
    "\n",
    "# Create training examples / targets\n",
    "char_dataset = tf.data.Dataset.from_tensor_slices(text_as_int)\n",
    "\n",
    "# Sample data from the char dataset\n",
    "for i in char_dataset.take(100):\n",
    "  print(idx2char[i.numpy()])"
   ]
  },
  {
   "cell_type": "markdown",
   "metadata": {
    "id": "qB7961PCStpw"
   },
   "source": [
    "The batch method lets us easily convert these individual characters to sequences of the desired size."
   ]
  },
  {
   "cell_type": "code",
   "execution_count": null,
   "metadata": {
    "colab": {
     "base_uri": "https://localhost:8080/"
    },
    "id": "qOwGpfeDYmgZ",
    "outputId": "a3737afe-566f-4b6e-e453-9bfce91c897a"
   },
   "outputs": [
    {
     "name": "stdout",
     "output_type": "stream",
     "text": [
      "\":.:.:.:.:.:.:.:.:.:.:.:.:.:.:.:.:.:.:.:.:.:.:.:.:.:.:.:.:.:.:\\r\\n         -----=====Earth's Dreamlands=\"\n",
      "'====-----\\r\\n           (313)558-5024 {14.4} (313)558-5517\\r\\n              A BBS for text file junkies\\r\\n'\n",
      "'              RPGNet GM File Archive Site\\r\\n.:.:.:.:.:.:.:.:.:.:.:.:.:.:.:.:.:.:.:.:.:.:.:.:.:.:.:.:.:'\n",
      "'.:.\\r\\n\\r\\n                      Chapter 1\\r\\n                 Mr. Sherlock Holmes\\r\\n\\r\\n  Mr. Sherlock Holmes'\n",
      "', who was usually very late in the\\r\\nmornings, save upon those not infrequent occasions when he was\\r\\nu'\n",
      "'p all night, was seated at the breakfast table. I stood upon the\\r\\nhearth-rug and picked up the stick '\n",
      "'which our visitor had left\\r\\nbehind him the night before. It was a fine, thick piece of wood,\\r\\nbulbous'\n",
      "'-headed, of the sort which is known as a \"Penang law-\\r\\nyer.\" Just under the head was a broad silver b'\n",
      "'and nearly an inch\\r\\nacross. \"To James Mortimer, M.R.C.S., from his friends of the\\r\\nC.C.H.,\" was engra'\n",
      "'ved upon it, with the date \"1884.\" It was\\r\\njust such a stick as the old-fashioned family practitioner'\n",
      "' used to\\r\\ncarry -- dignified, solid, and reassuring.\\r\\n  \"Well, Watson, what do you make of it?\"\\r\\n  Ho'\n",
      "'lmes was sitting with his back to me, and I had given him\\r\\nno sign of my occupation.\\r\\n  \"How did you '\n",
      "'know what I was doing? I believe you have\\r\\neyes in the back of your head.\"\\r\\n  \"I have, at least, a we'\n",
      "'ll-polished, silver-plated coffee-pot in\\r\\nfront of me,\" said he. \"But, tell me, Watson, what do you m'\n",
      "\"ake\\r\\nof our visitor's stick? Since we have been so unfortunate as to\\r\\nmiss him and have no notion of \"\n",
      "'his errand, this accidental\\r\\nsouvenir becomes of importance. Let me hear you reconstruct\\r\\nthe man by '\n",
      "'an examination of it.\"\\r\\n  \"I think,\" said I, following as far as I could the methods of\\r\\nmy companion'\n",
      "', \"that Dr. Mortimer is a successful, elderly\\r\\nmedical man, well-esteemed since those who know him gi'\n",
      "'ve\\r\\nhim this mark of their appreciation.\"\\r\\n  \"Good!\" said Holmes. \"Excellent!\"\\r\\n  \"I think also that '\n",
      "'the probability is in favour of his being a\\r\\ncountry practitioner who does a great deal of his visiti'\n",
      "'ng on\\r\\nfoot.\"\\r\\n  \"Why so?\"\\r\\n  \"Because this stick, though originally a very handsome one\\r\\nhas been so'\n",
      "' knocked about that I can hardly imagine a town\\r\\npractitioner carrying it. The thick-iron ferrule is '\n",
      "'worn down, so it\\r\\nis evident that he has done a great amount of walking with it.\"\\r\\n  \"Perfectly sound'\n",
      "'!\" said Holmes.\\r\\n  \"And then again, there is the \\'friends of the C.C.H.\\' I should\\r\\nguess that to be t'\n",
      "'he Something Hunt, the local hunt to whose\\r\\nmembers he has possibly given some surgical assistance, a'\n",
      "'nd\\r\\nwhich has made him a small presentation in return.\"\\r\\n  \"Really, Watson, you excel yourself,\" said'\n",
      "' Holmes, pushing\\r\\nback his chair and lighting a cigarette. \"I am bound to say that\\r\\nin all the accoun'\n",
      "'ts which you have been so good as to give of my\\r\\nown small achievements you have habitually underrate'\n",
      "'d your\\r\\nown abilities. It may be that you are not yourself luminous, but\\r\\nyou are a conductor of ligh'\n",
      "'t. Some people without possessing\\r\\ngenius have a remarkable power of stimulating it. I confess, my\\r\\nd'\n",
      "'ear fellow, that I am very much in your debt.\"\\r\\n  He had never said as much before, and I must admit '\n",
      "'that his\\r\\nwords gave me keen pleasure, for I had often been piqued by his\\r\\nindifference to my admirat'\n",
      "'ion and to the attempts which I had\\r\\nmade to give publicity to his methods. I was proud, too, to thin'\n",
      "'k\\r\\nthat I had so far mastered his system as to apply it in a way\\r\\nwhich earned his approval. He now t'\n",
      "'ook the stick from my hands\\r\\nand examined it for a few minutes with his naked eyes. Then\\r\\nwith an exp'\n",
      "'ression of interest he laid down his cigarette, and\\r\\ncarrying the cane to the window, he looked over '\n",
      "'it again with a\\r\\nconvex lens.\\r\\n  \"Interesting, though elementary,\" said he as he returned to\\r\\nhis fav'\n",
      "'ourite corner of the settee. \"There are certainly one or\\r\\ntwo indications upon the stick. It gives us'\n",
      "' the basis for several\\r\\ndeductions.\"\\r\\n  \"Has anything escaped me?\" I asked with some self-\\r\\nimportanc'\n",
      "'e. \"I trust that there is nothing of consequence which I\\r\\nhave overlooked?\"\\r\\n  \"I am afraid, my dear '\n",
      "'Watson, that most of your conclusions\\r\\nwere erroneous. When I said that you stimulated me I meant, to'\n",
      "'\\r\\nbe frank, that in noting your fallacies I was occasionally guided\\r\\ntowards the truth. Not that you '\n",
      "'are entirely wrong in this in-\\r\\nstance. The man is certainly a country practitioner. And he walks\\r\\na '\n",
      "'good deal.\"\\r\\n  \"Then I was right.\"\\r\\n  \"To that extent.\"\\r\\n  \"But that was all.\"\\r\\n  \"No, no, my dear Wa'\n",
      "'tson, not all -- by no means all. I would\\r\\nsuggest, for example, that a presentation to a doctor is m'\n",
      "\"ore\\r\\nlikely to come from a hospital than from a hunt, and that when\\r\\nthe initials 'C.C.' are placed b\"\n",
      "'efore that hospital the words\\r\\n\\'Charing Cross\\' very naturally suggest themselves.\"\\r\\n  \"You may be rig'\n",
      "'ht.\"\\r\\n  \"The probability lies in that direction. And if we take this as a\\r\\nworking hypothesis we have'\n",
      "' a fresh basis from which to start our\\r\\nconstruction of this unknown visitor.\"\\r\\n  \"Well, then, suppos'\n",
      "'ing that \\'C.C.H.\\' does stand for \\'Charing\\r\\nCross Hospital,\\' what further inferences may we draw?\"\\r\\n  '\n",
      "'\"Do none suggest themselves? You know my methods. Apply\\r\\nthem!\"\\r\\n  \"I can only think of the obvious c'\n",
      "'onclusion that the man has\\r\\npractised in town before going to the country.\"\\r\\n  \"I think that we might'\n",
      "' venture a little farther than this. Look\\r\\nat it in this light. On what occasion would it be most pro'\n",
      "'bable\\r\\nthat such a presentation would be made? When would his friends\\r\\nunite to give him a pledge of '\n",
      "'their good will? Obviously at the\\r\\nmoment when Dr. Mortimer withdrew from the service of the\\r\\nhospita'\n",
      "'l in order to start in practice for himself. We know there\\r\\nhas been a presentation. We believe there'\n",
      "' has been a change\\r\\nfrom a town hospital to a country practice. Is it, then, stretching\\r\\nour inferenc'\n",
      "'e too far to say that the presentation was on the\\r\\noccasion of the change?\"\\r\\n  \"It certainly seems pr'\n",
      "'obable.\"\\r\\n  \"Now, you will observe that he could not have been on the\\r\\nstaff of ohe hospital, since o'\n",
      "'nly a man well-established in a\\r\\nLondon practice could hold such a position, and such a one\\r\\nwould no'\n",
      "'t drift into the country. What was he, then? If he was in\\r\\nthe hospital and yet not on the staff he c'\n",
      "'ould only have been a\\r\\nhouse-surpeon or a house-physician -- little more than a senior\\r\\nstudent. And '\n",
      "'he left five years ago -- the date is on the stick. So\\r\\nyour grave, middle-aged family practitioner v'\n",
      "'anishes into thin\\r\\nair, my dear Watson, and there emerges a young fellow under\\r\\nthirty, amiable, unam'\n",
      "'bitious, absent-minded, and the possessor\\r\\nof a favourite dog, which I should describe roughly as bei'\n",
      "'ng\\r\\nlarger than a terrier and smaller than a mastiff.\"\\r\\n  I laughed incredulously as Sherlock Holmes '\n",
      "'leaned back in his\\r\\nsettee and blew little wavering rings of smoke up to the ceiling.\\r\\n  \"As to the l'\n",
      "'atter part, I have no means of checking you,\" said\\r\\nI, \"but at least it is not difficult to find out '\n",
      "'a few particulars\\r\\nabout the man\\'s age and professional career.\" From my small\\r\\nmedical shelf I took '\n",
      "'down the Medical Directory and turned up\\r\\nthe name. There were several Mortimers, but only one who\\r\\nc'\n",
      "'ould be our visitor. I read his record aloud.\\r\\n\\r\\n      \"Mortimer, James, M.R.C.S., 1882, Grimpen, Dar'\n",
      "'tmoor,\\r\\n    Devon. House-surgeon, from 1882 to 1884, at Charing\\r\\n    Cross Hospital. Winner of the Ja'\n",
      "\"ckson prize for Compara-\\r\\n    tive Pathology, with essay entitled 'Is Disease a Reversion?'\\r\\n    Corr\"\n",
      "\"esponding member of the Swedish Pathological Soci-\\r\\n    ety. Author of 'Some Freaks of Atavism' (Lanc\"\n",
      "\"et 1882).\\r\\n    'Do We Progress?' (Journal of Psychology, March, 1883).\\r\\n    Medical Officer for the p\"\n",
      "'arishes of Grimpen, Thorsley, and\\r\\n    High Barrow.\"\\r\\n\\r\\n  \"No mention of that local hunt, Watson,\" sa'\n",
      "'id Holmes with a\\r\\nmischievous smile, \"but a country doctor, as you very astutely\\r\\nobserved. I think t'\n",
      "'hat I am fairly justified in my inferences. As\\r\\nto the adjectives, I said, if I remember right, amiab'\n",
      "'le, unambi-\\r\\ntious, and absent-minded. It is my experience that it is only an\\r\\namiable man in this wo'\n",
      "'rld who receives testimonials, only an\\r\\nunambitious one who abandons a London career for the country,'\n",
      "'\\r\\nand only an absent-minded one who leaves his stick and not his\\r\\nvisiting-card after waiting an hour'\n",
      "' in your room.\"\\r\\n  \"And the dog?\"\\r\\n  \"Has been in the habit of carrying this stick behind his\\r\\nmaster'\n",
      "'. Being a heavy stick the dog has held it tightly by the\\r\\nmiddle, and the marks of his teeth are very'\n",
      "\" plainly visible. The\\r\\ndog's jaw, as shown in the space between these marks, is too\\r\\nbroad in my opin\"\n",
      "'ion for a terrier and not broad enough for a\\r\\nmastiff. It may have been -- yes, by Jove, it is a curl'\n",
      "'y-haired\\r\\nspaniel.\"\\r\\n  He had risen and paced the room as he spoke. Now he halted\\r\\nin the recess of t'\n",
      "'he window. There was such a ring of conviction\\r\\nin his voice that I glanced up in surprise.\\r\\n  \"My de'\n",
      "'ar fellow, how can you possibly be so sure of that?\"\\r\\n  \"For the very simple reason that I see the do'\n",
      "\"g himself on our\\r\\nvery door-step, and there is the ring of its owner. Don't move, I\\r\\nbeg you, Watson.\"\n",
      "' He is a professional brother of yours, and your\\r\\npresence may be of assistance to me. Now is the dra'\n",
      "'matic\\r\\nmoment of fate, Watson, when you hear a step upon the stair\\r\\nwhich is walking into your life, '\n",
      "'and you know not whether for\\r\\ngood or ill. What does Dr. James Mortimer, the man of science,\\r\\nask of '\n",
      "'Sherlock Holmes, the specialist in crime? Come in!\"\\r\\n  The appearance of our visitor was a surprise t'\n",
      "'o me, since I\\r\\nhad expected a typical country practitioner. He was a very tall,\\r\\nthin man, with a lon'\n",
      "'g nose like a beak, which jutted out between\\r\\ntwo keen, gray eyes, set closely together and sparkling'\n",
      "' brightly\\r\\nfrom behind a pair of gold-rimmed glasses. He was clad in a\\r\\nprofessional but rather slove'\n",
      "'nly fashion, for his frock-coat was\\r\\ndingy and his trousers frayed. Though young, his long back was\\r\\n'\n",
      "'already bowed, and he walked with a forward thrust of his head\\r\\nand a general air of peering benevole'\n",
      "\"nce. As he entered his eyes\\r\\nfell upon the stick in Holmes's hand, and he ran towards it with\\r\\nan exc\"\n",
      "'lamation of joy. \"I am so very glad,\" said he. \"I was not\\r\\nsure whether I had left it here or in the '\n"
     ]
    }
   ],
   "source": [
    "sequences = char_dataset.batch(seq_length+1, drop_remainder=True)\n",
    "# Sample looping of sequences for display of vectorized text.\n",
    "for item in sequences.take(100):\n",
    "  print(repr(''.join(idx2char[item.numpy()])))"
   ]
  },
  {
   "cell_type": "markdown",
   "metadata": {
    "id": "QfCfiE-eS11w"
   },
   "source": [
    "For each sequence, duplicate and shift it to form the input and target text by using the map method to apply a simple function to each batch:"
   ]
  },
  {
   "cell_type": "code",
   "execution_count": null,
   "metadata": {
    "id": "erOcfMerZFaA"
   },
   "outputs": [],
   "source": [
    "# Spliting the input and target text\n",
    "def split_input_target(chunk):\n",
    "  input_text = chunk[:-1]\n",
    "  target_text = chunk[1:]\n",
    "  return input_text, target_text\n",
    "\n",
    "# Mapping the dataset with split input target\n",
    "dataset = sequences.map(split_input_target)"
   ]
  },
  {
   "cell_type": "markdown",
   "metadata": {
    "id": "gMoVPyJqS6Bp"
   },
   "source": [
    "Print the first examples input and target values:"
   ]
  },
  {
   "cell_type": "code",
   "execution_count": null,
   "metadata": {
    "colab": {
     "base_uri": "https://localhost:8080/"
    },
    "id": "QV2m0sF9ZImy",
    "outputId": "bf1130ad-7c14-49ed-bdc8-2f363b2d335c"
   },
   "outputs": [
    {
     "name": "stdout",
     "output_type": "stream",
     "text": [
      "Input data:  \":.:.:.:.:.:.:.:.:.:.:.:.:.:.:.:.:.:.:.:.:.:.:.:.:.:.:.:.:.:.:\\r\\n         -----=====Earth's Dreamlands\"\n",
      "Target data: \".:.:.:.:.:.:.:.:.:.:.:.:.:.:.:.:.:.:.:.:.:.:.:.:.:.:.:.:.:.:\\r\\n         -----=====Earth's Dreamlands=\"\n"
     ]
    }
   ],
   "source": [
    "# Formalizing the input and target text from dataset printing the sample one row\n",
    "for input_example, target_example in  dataset.take(1):\n",
    "  print ('Input data: ', repr(''.join(idx2char[input_example.numpy()])))\n",
    "  print ('Target data:', repr(''.join(idx2char[target_example.numpy()])))"
   ]
  },
  {
   "cell_type": "markdown",
   "metadata": {
    "id": "qbZtR5OqS-Cw"
   },
   "source": [
    "## Create training batches\n",
    "\n",
    "Used tf.data to split the text into manageable sequences. But before feeding this data into the model, we need to shuffle the data and pack it into batches.\n",
    "\n",
    "Big batch size speeds up the training, and even have better generalization performances"
   ]
  },
  {
   "cell_type": "code",
   "execution_count": null,
   "metadata": {
    "colab": {
     "base_uri": "https://localhost:8080/"
    },
    "id": "qSA2GkFiZKVu",
    "outputId": "38d411bc-39a5-4e8d-efab-4233a7646e72"
   },
   "outputs": [
    {
     "data": {
      "text/plain": [
       "<BatchDataset element_spec=(TensorSpec(shape=(128, 100), dtype=tf.int64, name=None), TensorSpec(shape=(128, 100), dtype=tf.int64, name=None))>"
      ]
     },
     "execution_count": 11,
     "metadata": {},
     "output_type": "execute_result"
    }
   ],
   "source": [
    "# Batch size\n",
    "BATCH_SIZE = 128\n",
    "\n",
    "# Buffer size to shuffle the dataset\n",
    "# (TF data is designed to work with possibly infinite sequences,\n",
    "# so it doesn't attempt to shuffle the entire sequence in memory. Instead,\n",
    "# it maintains a buffer in which it shuffles elements).\n",
    "BUFFER_SIZE = 10000\n",
    "\n",
    "dataset = dataset.shuffle(BUFFER_SIZE).batch(BATCH_SIZE, drop_remainder=True)\n",
    "\n",
    "dataset"
   ]
  },
  {
   "cell_type": "code",
   "execution_count": null,
   "metadata": {
    "id": "CYcB1qgOZMqW"
   },
   "outputs": [],
   "source": [
    "# Length of the vocabulary in chars\n",
    "vocab_size = len(vocab)\n",
    "\n",
    "# The embedding dimension\n",
    "embedding_dim = 256\n",
    "\n",
    "# Number of RNN units\n",
    "rnn_units = 1024"
   ]
  },
  {
   "cell_type": "markdown",
   "metadata": {
    "id": "EoT7xP1STM21"
   },
   "source": [
    "Building The Model\n",
    "\n",
    "Using tf.keras.Sequential to define the model. For this example three layers are used to define our model:\n",
    "\n",
    "**tf.keras.layers.Embedding:** The input layer. A trainable lookup table that will map the numbers of each character to a vector with embedding_dim dimensions;\n",
    "\n",
    "**tf.keras.layers.GRU:** A type of RNN with size units=rnn_units (You can also use a LSTM layer here. But it will be done once we get the desired results from first model)\n",
    "\n",
    "**tf.keras.layers.Dense**: The output layer, with vocab_size outputs."
   ]
  },
  {
   "cell_type": "code",
   "execution_count": null,
   "metadata": {
    "id": "irdl0gfDZOEG"
   },
   "outputs": [],
   "source": [
    "# Model Building\n",
    "\n",
    "def build_model(vocab_size, \n",
    "                embedding_dim, \n",
    "                rnn_units, \n",
    "                batch_size):\n",
    "  \n",
    "  # Sequential Model - As the  model has multiple text inputs or multiple text outputs. Any of the layers has multiple inputs or multiple outputs should be having Sequential model as base. \n",
    "  model = tf.keras.Sequential([\n",
    "    tf.keras.layers.Embedding(vocab_size, \n",
    "                              embedding_dim,\n",
    "                              batch_input_shape=[batch_size, None]),\n",
    "                               \n",
    "    # Gated Recurrent Unit -  Will be used as a gating mechanism in recurrent neural networks                           \n",
    "    tf.keras.layers.GRU(rnn_units,\n",
    "                        return_sequences=True,\n",
    "                        stateful=True,\n",
    "                        recurrent_initializer='glorot_uniform'),\n",
    "                        \n",
    "    # Setting the vocab size as Dense Layer\n",
    "    tf.keras.layers.Dense(vocab_size)\n",
    "  ])\n",
    "\n",
    "  return model"
   ]
  },
  {
   "cell_type": "code",
   "execution_count": null,
   "metadata": {
    "id": "ivp7tSImZPmV"
   },
   "outputs": [],
   "source": [
    "# model Definition with calling to build model\n",
    "model = build_model(\n",
    "    vocab_size = len(vocab),\n",
    "    embedding_dim=embedding_dim,\n",
    "    rnn_units=rnn_units,\n",
    "    batch_size=BATCH_SIZE)"
   ]
  },
  {
   "cell_type": "markdown",
   "metadata": {
    "id": "oS8NedNaU_N3"
   },
   "source": [
    "The model is run to see that it behaves as expected.\n",
    "\n",
    "checking the shape of the output:\n",
    "\n",
    "In the above example the sequence length of the input is 100 but the model can be run on inputs of any length:"
   ]
  },
  {
   "cell_type": "code",
   "execution_count": null,
   "metadata": {
    "colab": {
     "base_uri": "https://localhost:8080/"
    },
    "id": "wtlYiBndZQx9",
    "outputId": "6265a1dd-8f0e-4141-a547-8cb63d5ecd80"
   },
   "outputs": [
    {
     "name": "stdout",
     "output_type": "stream",
     "text": [
      "(128, 100, 81) # (batch_size, sequence_length, vocab_size)\n",
      "Model: \"sequential\"\n",
      "_________________________________________________________________\n",
      " Layer (type)                Output Shape              Param #   \n",
      "=================================================================\n",
      " embedding (Embedding)       (128, None, 256)          20736     \n",
      "                                                                 \n",
      " gru (GRU)                   (128, None, 1024)         3938304   \n",
      "                                                                 \n",
      " dense (Dense)               (128, None, 81)           83025     \n",
      "                                                                 \n",
      "=================================================================\n",
      "Total params: 4,042,065\n",
      "Trainable params: 4,042,065\n",
      "Non-trainable params: 0\n",
      "_________________________________________________________________\n"
     ]
    }
   ],
   "source": [
    "for input_example_batch, target_example_batch in dataset.take(1):\n",
    "  example_batch_predictions = model(input_example_batch)\n",
    "  print(example_batch_predictions.shape, \"# (batch_size, sequence_length, vocab_size)\")\n",
    "  model.summary()"
   ]
  },
  {
   "cell_type": "markdown",
   "metadata": {
    "id": "36c1biclVJ3B"
   },
   "source": [
    "To get actual predictions from the model we need to sample from the output distribution, to get actual character indices. This distribution is defined by the logits over the character vocabulary.\n",
    "\n",
    "Note: It is important to sample from this distribution as taking the argmax of the distribution can easily get the model stuck in a loop.\n",
    "\n",
    "For the first example in the batch:"
   ]
  },
  {
   "cell_type": "code",
   "execution_count": null,
   "metadata": {
    "colab": {
     "base_uri": "https://localhost:8080/"
    },
    "id": "tLrgTq-4ZSNH",
    "outputId": "afeb64c3-19b8-47eb-d085-cb013929796d"
   },
   "outputs": [
    {
     "data": {
      "text/plain": [
       "array([33, 14,  0, 41, 48, 49, 30, 65, 15, 29,  3, 54, 21, 72, 79,  6, 19,\n",
       "        0, 73, 45, 55, 51, 35, 72, 60, 32, 70, 66, 64, 54, 25, 55, 25, 27,\n",
       "       25, 65, 31, 52, 65, 34,  6, 57, 71,  7,  8, 56, 39, 30, 47, 13, 66,\n",
       "       65,  5, 15, 58, 12, 10, 19, 14, 31, 11, 19,  5,  3, 39, 13, 57,  4,\n",
       "       27, 41, 55, 43, 73, 30, 29, 49, 50, 77, 69, 41, 28, 68,  5, 48, 22,\n",
       "        4, 38, 73,  5,  4, 27,  2, 77, 16, 60, 53, 29, 60, 18,  1])"
      ]
     },
     "execution_count": 16,
     "metadata": {},
     "output_type": "execute_result"
    }
   ],
   "source": [
    "sampled_indices = tf.random.categorical(example_batch_predictions[0], num_samples=1)\n",
    "sampled_indices = tf.squeeze(sampled_indices,axis=-1).numpy()\n",
    "#This gives us, at each timestep, a prediction of the next character index:\n",
    "sampled_indices"
   ]
  },
  {
   "cell_type": "markdown",
   "metadata": {
    "id": "2fKla1wxVNYn"
   },
   "source": [
    "Train the model\n",
    "\n",
    "At this point the problem can be treated as a standard classification problem. Given the previous RNN state, and the input this time step, predict the class of the next character.\n",
    "\n",
    "Attach an optimizer, and a loss function The standard tf.keras.losses.sparse_categorical_crossentropy loss function works in this case because it is applied across the last dimension of the predictions.\n",
    "\n",
    "Because our model returns logits, we need to set the from_logits flag."
   ]
  },
  {
   "cell_type": "code",
   "execution_count": null,
   "metadata": {
    "colab": {
     "base_uri": "https://localhost:8080/"
    },
    "id": "d_yiGrTMZWWH",
    "outputId": "a2678cbd-adf7-4388-cde2-51fcf1845325"
   },
   "outputs": [
    {
     "name": "stdout",
     "output_type": "stream",
     "text": [
      "Prediction shape:  (128, 100, 81)  # (batch_size, sequence_length, vocab_size)\n",
      "scalar_loss:       4.3949122\n"
     ]
    }
   ],
   "source": [
    "def loss(labels, logits):\n",
    "  return tf.keras.losses.sparse_categorical_crossentropy(labels, logits, from_logits=True)\n",
    "\n",
    "example_batch_loss  = loss(target_example_batch, example_batch_predictions)\n",
    "\n",
    "print(\"Prediction shape: \", example_batch_predictions.shape, \" # (batch_size, sequence_length, vocab_size)\")\n",
    "print(\"scalar_loss:      \", example_batch_loss.numpy().mean())"
   ]
  },
  {
   "cell_type": "markdown",
   "metadata": {
    "id": "ipcf_NwXVTYN"
   },
   "source": [
    "Configure the training procedure using the tf.keras.Model.compile method. Using tf.keras.optimizers.Adam with default arguments and the loss function."
   ]
  },
  {
   "cell_type": "code",
   "execution_count": null,
   "metadata": {
    "id": "dTMG8MKrZYJr"
   },
   "outputs": [],
   "source": [
    "model.compile(optimizer='adam', loss=loss)"
   ]
  },
  {
   "cell_type": "markdown",
   "metadata": {
    "id": "lxpHDanbVYPJ"
   },
   "source": [
    "Configure checkpoints\n",
    "\n",
    "Use a tf.keras.callbacks.ModelCheckpoint to ensure that checkpoints are saved during training:"
   ]
  },
  {
   "cell_type": "code",
   "execution_count": null,
   "metadata": {
    "id": "-PV6NaA7Ziuq"
   },
   "outputs": [],
   "source": [
    "# Directory where the checkpoints will be saved\n",
    "checkpoint_dir = './training_checkpoints'\n",
    "# Name of the checkpoint files\n",
    "checkpoint_prefix = os.path.join(checkpoint_dir, \"ckpt_{epoch}\")\n",
    "\n",
    "checkpoint_callback=tf.keras.callbacks.ModelCheckpoint(\n",
    "    filepath=checkpoint_prefix,\n",
    "    save_weights_only=True)"
   ]
  },
  {
   "cell_type": "markdown",
   "metadata": {
    "id": "GYvONTv_VbpW"
   },
   "source": [
    "Execute the training\n",
    "\n",
    "Using 10 epochs to train the model."
   ]
  },
  {
   "cell_type": "code",
   "execution_count": null,
   "metadata": {
    "colab": {
     "base_uri": "https://localhost:8080/"
    },
    "id": "zNKfgcS1ZkCR",
    "outputId": "4869a2d2-e49d-4e61-96ed-9953b771015d"
   },
   "outputs": [
    {
     "name": "stdout",
     "output_type": "stream",
     "text": [
      "Epoch 1/10\n",
      "25/25 [==============================] - 8s 211ms/step - loss: 4.0817\n",
      "Epoch 2/10\n",
      "25/25 [==============================] - 6s 209ms/step - loss: 2.8654\n",
      "Epoch 3/10\n",
      "25/25 [==============================] - 6s 211ms/step - loss: 2.5135\n",
      "Epoch 4/10\n",
      "25/25 [==============================] - 6s 210ms/step - loss: 2.3470\n",
      "Epoch 5/10\n",
      "25/25 [==============================] - 6s 213ms/step - loss: 2.2368\n",
      "Epoch 6/10\n",
      "25/25 [==============================] - 6s 207ms/step - loss: 2.1491\n",
      "Epoch 7/10\n",
      "25/25 [==============================] - 6s 213ms/step - loss: 2.0647\n",
      "Epoch 8/10\n",
      "25/25 [==============================] - 6s 207ms/step - loss: 1.9841\n",
      "Epoch 9/10\n",
      "25/25 [==============================] - 6s 214ms/step - loss: 1.9086\n",
      "Epoch 10/10\n",
      "25/25 [==============================] - 6s 216ms/step - loss: 1.8401\n"
     ]
    }
   ],
   "source": [
    "EPOCHS = 10\n",
    "history = model.fit(dataset, epochs=EPOCHS, callbacks=[checkpoint_callback])"
   ]
  },
  {
   "cell_type": "markdown",
   "metadata": {
    "id": "zdiD4r_mVqjt"
   },
   "source": [
    "Ploting the loss against the epochs."
   ]
  },
  {
   "cell_type": "code",
   "execution_count": null,
   "metadata": {
    "id": "A4LsTycWVpnW"
   },
   "outputs": [],
   "source": [
    "import matplotlib.pyplot as plt\n",
    "\n",
    "# Plotting the graph between epochs and loss function\n",
    "def plot_accuracy(history):\n",
    "  plt.plot(history.history['loss'])\n",
    "  plt.title('model loss')\n",
    "  plt.ylabel('Loss')\n",
    "  plt.xlabel('Epoch')\n",
    "  plt.legend(['loss'], loc='upper right')\n",
    "  plt.show()"
   ]
  },
  {
   "cell_type": "code",
   "execution_count": null,
   "metadata": {
    "colab": {
     "base_uri": "https://localhost:8080/",
     "height": 295
    },
    "id": "m71A1rVZV8TD",
    "outputId": "7e181605-ced9-4f50-ece3-77ce30667e0a"
   },
   "outputs": [
    {
     "data": {
      "image/png": "[encoded data removed]",
      "text/plain": [
       "<Figure size 432x288 with 1 Axes>"
      ]
     },
     "metadata": {
      "needs_background": "light"
     },
     "output_type": "display_data"
    }
   ],
   "source": [
    "plot_accuracy(history)"
   ]
  },
  {
   "cell_type": "markdown",
   "metadata": {
    "id": "TApo38dHWD-p"
   },
   "source": [
    "To run the model with a different batch_size, we need to rebuild the model and restore the weights from the checkpoint."
   ]
  },
  {
   "cell_type": "code",
   "execution_count": null,
   "metadata": {
    "colab": {
     "base_uri": "https://localhost:8080/"
    },
    "id": "RgYAPRW4aYzu",
    "outputId": "5c325caa-0d8e-45c7-ab37-2ef8e9dae510"
   },
   "outputs": [
    {
     "name": "stdout",
     "output_type": "stream",
     "text": [
      "Model: \"sequential_1\"\n",
      "_________________________________________________________________\n",
      " Layer (type)                Output Shape              Param #   \n",
      "=================================================================\n",
      " embedding_1 (Embedding)     (1, None, 256)            20736     \n",
      "                                                                 \n",
      " gru_1 (GRU)                 (1, None, 1024)           3938304   \n",
      "                                                                 \n",
      " dense_1 (Dense)             (1, None, 81)             83025     \n",
      "                                                                 \n",
      "=================================================================\n",
      "Total params: 4,042,065\n",
      "Trainable params: 4,042,065\n",
      "Non-trainable params: 0\n",
      "_________________________________________________________________\n"
     ]
    }
   ],
   "source": [
    "# Intilizing the latest check point\n",
    "tf.train.latest_checkpoint(checkpoint_dir)\n",
    "\n",
    "# Model build\n",
    "model = build_model(vocab_size, embedding_dim, rnn_units, batch_size = 1)\n",
    "\n",
    "# Loading the weights from latest checkpoint from directory\n",
    "model.load_weights(tf.train.latest_checkpoint(checkpoint_dir))\n",
    "\n",
    "# Re-building the model\n",
    "model.build(tf.TensorShape([1, None]))\n",
    "\n",
    "# Model Summary\n",
    "model.summary()"
   ]
  },
  {
   "cell_type": "markdown",
   "metadata": {
    "id": "_YKKwUPAWLLg"
   },
   "source": [
    "The prediction loop\n",
    "\n",
    "The following code block generates the text:\n",
    "\n",
    "It Starts by choosing a start string, initializing the RNN state and setting the number of characters to generate."
   ]
  },
  {
   "cell_type": "code",
   "execution_count": null,
   "metadata": {
    "id": "DpFW7SlFag-n"
   },
   "outputs": [],
   "source": [
    "def generate_text(model, start_string):\n",
    "  # Evaluation step (generating text using the learned model)\n",
    "\n",
    "  # Number of characters to generate\n",
    "  num_generate = 1000\n",
    "\n",
    "  # Converting our start string to numbers (vectorizing)\n",
    "  input_eval = [char2idx[s] for s in start_string]\n",
    "  input_eval = tf.expand_dims(input_eval, 0)\n",
    "\n",
    "  # Empty string to store our results\n",
    "  text_generated = []\n",
    "\n",
    "  # Low temperatures results in more predictable text.\n",
    "  # Higher temperatures results in more surprising text.\n",
    "  # Experiment to find the best setting.\n",
    "  temperature = 1.0\n",
    "\n",
    "  # Here batch size == 1\n",
    "  model.reset_states()\n",
    "  for i in range(num_generate):\n",
    "    predictions = model(input_eval)\n",
    "    # remove the batch dimension\n",
    "    predictions = tf.squeeze(predictions, 0)\n",
    "\n",
    "    # using a categorical distribution to predict the character returned by the model\n",
    "    predictions = predictions / temperature\n",
    "    predicted_id = tf.random.categorical(predictions, num_samples=1)[-1,0].numpy()\n",
    "\n",
    "    # We pass the predicted character as the next input to the model\n",
    "    # along with the previous hidden state\n",
    "    input_eval = tf.expand_dims([predicted_id], 0)\n",
    "\n",
    "    text_generated.append(idx2char[predicted_id])\n",
    "\n",
    "  return (start_string + ''.join(text_generated))"
   ]
  },
  {
   "cell_type": "code",
   "execution_count": null,
   "metadata": {
    "colab": {
     "base_uri": "https://localhost:8080/"
    },
    "id": "Joyp-e9takyK",
    "outputId": "56888b00-bc88-472f-db12-8e02854748d6"
   },
   "outputs": [
    {
     "name": "stdout",
     "output_type": "stream",
     "text": [
      "Mr. Sherlock Holmes: gakner. Bur own, wall wost to-\r\n",
      "shapse spoplacinion an wot's\r\n",
      "fireste, and of the obse very tle tolleshed to is\r\n",
      "fardowe have no who, mar you\r\n",
      "reing follow. Af the medy lige doing wire beave corie sivared to biken foild On-than we hounds bus rogrll wis, swinks-\r\n",
      "   - thell should in. There him exuntio s me, and his you have wancs dorded.\"\r\n",
      "  \"Whene\r\n",
      "detcow\r\n",
      "he orcesthed, and noud wilat\r\n",
      "wo\r\n",
      "dart be fire betion ass\r\n",
      "seer! thinger, the joor foresiby of his spoicer in your saintor,\" Thay been upon framicilactlared aprertmon that gore at\r\n",
      "tweptly that his thisgobed and frem? I as\r\n",
      "explealling wo sorded fromd readice, well\r\n",
      "  whit of instind Evimibil mo..\"   ha\r\n",
      "clacclowions in was leavily of jervide of hives th the choully oftive it ture loke intouth the lecimes, ads\r\n",
      "ont is niths upteen ald thim now to neverter, sarden. What illaid I aplits as!\" I that thes, and wawnted, and ditury soknt\r\n",
      "the copeathor.\"\r\n",
      "  \"Helly'd it inyond wif Hely\r\n",
      "fond, the blay was flack\r\n",
      "breare his the had a vroper\n"
     ]
    }
   ],
   "source": [
    "print(generate_text(model, start_string=u\"Mr. Sherlock Holmes: \"))"
   ]
  },
  {
   "cell_type": "markdown",
   "metadata": {
    "id": "FBfgDTVnfPsf"
   },
   "source": [
    "Looking at the generated text, you'll see the model knows when to capitalize, make paragraphs and imitates a hound of baskerville - like writing vocabulary. With the small number of training epochs, it has not yet learned to form coherent sentences.                                                          Need to improve the model by additional changes considering hyperparameters"
   ]
  },
  {
   "cell_type": "markdown",
   "metadata": {
    "id": "2XQ0btJSWT2D"
   },
   "source": [
    "Using an LSTM with sigmoid' as recurrent_activation and 'tanh' as activation and have also added Dropout and dense layers.\n",
    "\n",
    "**Why LSTM ?**\n",
    "LSTM can solve the problem for coherenet sentences for text generation with enhanced behaviour, because it uses gates to control the memorizing process.\n",
    "\n",
    "**Why tanh?**\n",
    "To overcome the vanishing gradient problem, we need a function whose second derivative can sustain for a long range before going to zero. tanh is a suitable function with the above property.\n",
    "\n",
    "\n",
    "**Why Sigmoid?**\n",
    "As Sigmoid can output 0 or 1, it can be used to forget or remember the information.\n"
   ]
  },
  {
   "cell_type": "code",
   "execution_count": null,
   "metadata": {
    "id": "-CdxFZDBavDR"
   },
   "outputs": [],
   "source": [
    "def build_model(vocab_size, embedding_dim, rnn_units, batch_size):\n",
    "\n",
    "  model = tf.keras.Sequential([\n",
    "    tf.keras.layers.Embedding(vocab_size, \n",
    "                              embedding_dim,\n",
    "                              batch_input_shape=[batch_size, None]),\n",
    "    # Hyper Parameter One                          \n",
    "    # LSTM has feedback connections. It can process not only single data points , but also entire sequences of data.      \n",
    "    tf.keras.layers.LSTM(rnn_units,\n",
    "                         activation='tanh', \n",
    "                         recurrent_activation='sigmoid',\n",
    "                         return_sequences=True,\n",
    "                         stateful=True,\n",
    "                         recurrent_initializer='glorot_uniform'),\n",
    "\n",
    "    # Hyper Parameter Two  (Adding Additional hiden Layer)\n",
    "    # Setting the Dense to 50\n",
    "    tf.keras.layers.Dense(50),\n",
    "\n",
    "    # Hyper Parameter Three\n",
    "    # Setting the Dropout top 0.2\n",
    "    # Dropout refers to ignoring units (i.e. neurons) during the training phase of certain set of neurons which is chosen at random. \n",
    "    # By “ignoring”, they are not considered during a particular forward or backward pass.\n",
    "    tf.keras.layers.Dropout(0.2),\n",
    "\n",
    "    tf.keras.layers.Dense(vocab_size)\n",
    "\n",
    "  ])\n",
    "\n",
    "  return model"
   ]
  },
  {
   "cell_type": "code",
   "execution_count": null,
   "metadata": {
    "id": "qDanMYTVa2Cb"
   },
   "outputs": [],
   "source": [
    "model = build_model(\n",
    "    vocab_size = len(vocab),\n",
    "    embedding_dim=embedding_dim,\n",
    "    rnn_units=rnn_units,\n",
    "    batch_size=BATCH_SIZE)"
   ]
  },
  {
   "cell_type": "markdown",
   "metadata": {
    "id": "hwvrjlDJWlFA"
   },
   "source": [
    "Running the model to see that it behaves as expected and checking the shape of the output:"
   ]
  },
  {
   "cell_type": "code",
   "execution_count": null,
   "metadata": {
    "colab": {
     "base_uri": "https://localhost:8080/"
    },
    "id": "3L7fNF5Ua3sF",
    "outputId": "fa0f4dfd-4157-4a67-ff15-625008fc7329"
   },
   "outputs": [
    {
     "name": "stdout",
     "output_type": "stream",
     "text": [
      "WARNING:tensorflow:Detecting that an object or model or tf.train.Checkpoint is being deleted with unrestored values. See the following logs for the specific values in question. To silence these warnings, use `status.expect_partial()`. See https://www.tensorflow.org/api_docs/python/tf/train/Checkpoint#restorefor details about the status object returned by the restore function.\n",
      "WARNING:tensorflow:Value in checkpoint could not be found in the restored object: (root).optimizer.iter\n",
      "WARNING:tensorflow:Value in checkpoint could not be found in the restored object: (root).optimizer.beta_1\n",
      "WARNING:tensorflow:Value in checkpoint could not be found in the restored object: (root).optimizer.beta_2\n",
      "WARNING:tensorflow:Value in checkpoint could not be found in the restored object: (root).optimizer.decay\n",
      "WARNING:tensorflow:Value in checkpoint could not be found in the restored object: (root).optimizer.learning_rate\n",
      "WARNING:tensorflow:Value in checkpoint could not be found in the restored object: (root).optimizer's state 'm' for (root).layer_with_weights-0.embeddings\n",
      "WARNING:tensorflow:Value in checkpoint could not be found in the restored object: (root).optimizer's state 'm' for (root).layer_with_weights-2.kernel\n",
      "WARNING:tensorflow:Value in checkpoint could not be found in the restored object: (root).optimizer's state 'm' for (root).layer_with_weights-2.bias\n",
      "WARNING:tensorflow:Value in checkpoint could not be found in the restored object: (root).optimizer's state 'm' for (root).layer_with_weights-1.cell.kernel\n",
      "WARNING:tensorflow:Value in checkpoint could not be found in the restored object: (root).optimizer's state 'm' for (root).layer_with_weights-1.cell.recurrent_kernel\n",
      "WARNING:tensorflow:Value in checkpoint could not be found in the restored object: (root).optimizer's state 'm' for (root).layer_with_weights-1.cell.bias\n",
      "WARNING:tensorflow:Value in checkpoint could not be found in the restored object: (root).optimizer's state 'v' for (root).layer_with_weights-0.embeddings\n",
      "WARNING:tensorflow:Value in checkpoint could not be found in the restored object: (root).optimizer's state 'v' for (root).layer_with_weights-2.kernel\n",
      "WARNING:tensorflow:Value in checkpoint could not be found in the restored object: (root).optimizer's state 'v' for (root).layer_with_weights-2.bias\n",
      "WARNING:tensorflow:Value in checkpoint could not be found in the restored object: (root).optimizer's state 'v' for (root).layer_with_weights-1.cell.kernel\n",
      "WARNING:tensorflow:Value in checkpoint could not be found in the restored object: (root).optimizer's state 'v' for (root).layer_with_weights-1.cell.recurrent_kernel\n",
      "WARNING:tensorflow:Value in checkpoint could not be found in the restored object: (root).optimizer's state 'v' for (root).layer_with_weights-1.cell.bias\n",
      "(128, 100, 81) # (batch_size, sequence_length, vocab_size)\n",
      "Model: \"sequential_2\"\n",
      "_________________________________________________________________\n",
      " Layer (type)                Output Shape              Param #   \n",
      "=================================================================\n",
      " embedding_2 (Embedding)     (128, None, 256)          20736     \n",
      "                                                                 \n",
      " lstm (LSTM)                 (128, None, 1024)         5246976   \n",
      "                                                                 \n",
      " dense_2 (Dense)             (128, None, 50)           51250     \n",
      "                                                                 \n",
      " dropout (Dropout)           (128, None, 50)           0         \n",
      "                                                                 \n",
      " dense_3 (Dense)             (128, None, 81)           4131      \n",
      "                                                                 \n",
      "=================================================================\n",
      "Total params: 5,323,093\n",
      "Trainable params: 5,323,093\n",
      "Non-trainable params: 0\n",
      "_________________________________________________________________\n"
     ]
    }
   ],
   "source": [
    "for input_example_batch, target_example_batch in dataset.take(1):\n",
    "\n",
    "  example_batch_predictions = model(input_example_batch)\n",
    "\n",
    "  print(example_batch_predictions.shape, \"# (batch_size, sequence_length, vocab_size)\")\n",
    "  \n",
    "  model.summary()"
   ]
  },
  {
   "cell_type": "markdown",
   "metadata": {
    "id": "ExYAkqyTWrlN"
   },
   "source": [
    "To get actual predictions from the model we need to sample from the output distribution, to get actual character indices. This distribution is defined by the logits over the character vocabulary.\n",
    "\n",
    "Note: It is important to sample from this distribution as taking the argmax of the distribution can easily get the model stuck in a loop.\n",
    "\n",
    "For the first example in the batch:"
   ]
  },
  {
   "cell_type": "code",
   "execution_count": null,
   "metadata": {
    "colab": {
     "base_uri": "https://localhost:8080/"
    },
    "id": "ZVBwYvMMa8cv",
    "outputId": "665f06d5-45a4-46be-98ee-2179800651e5"
   },
   "outputs": [
    {
     "data": {
      "text/plain": [
       "array([37, 61, 65,  7, 58, 71,  4, 23, 11, 59, 46, 61, 65, 55, 13, 52, 50,\n",
       "       74, 28, 36, 60, 30, 21, 22, 15, 33, 30, 49, 72, 22, 60, 44, 33, 40,\n",
       "       59,  9, 46, 37,  5, 79, 59, 13, 20, 10, 48, 73, 73, 69, 46,  1, 60,\n",
       "       39, 14,  2, 74,  9, 18, 58, 19,  9,  7, 45, 10, 27, 50,  8, 33, 77,\n",
       "       80, 44,  2, 35, 62, 71,  1, 63, 49, 59, 44, 70, 16, 57, 76, 45, 71,\n",
       "       20, 67, 15, 15, 63, 69, 27,  1, 59, 17, 52, 25, 17, 22, 80])"
      ]
     },
     "execution_count": 29,
     "metadata": {},
     "output_type": "execute_result"
    }
   ],
   "source": [
    "sampled_indices = tf.random.categorical(example_batch_predictions[0], num_samples=1)\n",
    "\n",
    "sampled_indices = tf.squeeze(sampled_indices,axis=-1).numpy()\n",
    "\n",
    "#This gives us, at each timestep, a prediction of the next character index:\n",
    "sampled_indices"
   ]
  },
  {
   "cell_type": "markdown",
   "metadata": {
    "id": "6y-kcfVBW6JH"
   },
   "source": [
    "Training the model"
   ]
  },
  {
   "cell_type": "code",
   "execution_count": null,
   "metadata": {
    "colab": {
     "base_uri": "https://localhost:8080/"
    },
    "id": "OmbGj6NOa_BQ",
    "outputId": "e12e1656-687e-440b-eed1-56284fd5817a"
   },
   "outputs": [
    {
     "name": "stdout",
     "output_type": "stream",
     "text": [
      "Prediction shape:  (128, 100, 81)  # (batch_size, sequence_length, vocab_size)\n",
      "scalar_loss:       4.3947277\n"
     ]
    }
   ],
   "source": [
    "def loss(labels, logits):\n",
    "  return tf.keras.losses.sparse_categorical_crossentropy(labels, logits, from_logits=True)\n",
    "\n",
    "example_batch_loss  = loss(target_example_batch, example_batch_predictions)\n",
    "\n",
    "print(\"Prediction shape: \", example_batch_predictions.shape, \" # (batch_size, sequence_length, vocab_size)\")\n",
    "print(\"scalar_loss:      \", example_batch_loss.numpy().mean())\n"
   ]
  },
  {
   "cell_type": "markdown",
   "metadata": {
    "id": "nWppPzYFW_v4"
   },
   "source": [
    "Here, We are changing the optimizer to 'RMSprop'\n",
    "\n",
    "The gist of RMSprop is to:\n",
    "\n",
    "•\tMaintain a moving (discounted) average of the square of gradients\n",
    "•\tDivide the gradient by the root of this average\n",
    "\n",
    "This implementation of RMSprop uses plain momentum, not Nesterov momentum.\n",
    "The cantered version additionally maintains a moving average of the gradients and uses that average to estimate the variance.\n",
    "\n",
    "\n"
   ]
  },
  {
   "cell_type": "code",
   "execution_count": null,
   "metadata": {
    "id": "Hd-GLAbFbAaW"
   },
   "outputs": [],
   "source": [
    "# Hyper Parameter Four (Change of Optimizer)\n",
    "model.compile(optimizer='RMSprop', loss=loss)"
   ]
  },
  {
   "cell_type": "markdown",
   "metadata": {
    "id": "i0EpszobXJ4g"
   },
   "source": [
    "Configure checkpoints\n",
    "\n",
    "Use a tf.keras.callbacks.ModelCheckpoint to ensure that checkpoints are saved during training:"
   ]
  },
  {
   "cell_type": "code",
   "execution_count": null,
   "metadata": {
    "id": "yMB1_Ir3bCc5"
   },
   "outputs": [],
   "source": [
    "# Directory where the checkpoints will be saved\n",
    "checkpoint_dir = './training_checkpoints'\n",
    "\n",
    "# Name of the checkpoint files\n",
    "checkpoint_prefix = os.path.join(checkpoint_dir, \"ckpt_{epoch}\")\n",
    "\n",
    "checkpoint_callback=tf.keras.callbacks.ModelCheckpoint(\n",
    "    filepath=checkpoint_prefix,\n",
    "    save_weights_only=True)"
   ]
  },
  {
   "cell_type": "markdown",
   "metadata": {
    "id": "hegzG_dxXOcJ"
   },
   "source": [
    "Here, I am using 20 epochs to train the model."
   ]
  },
  {
   "cell_type": "code",
   "execution_count": null,
   "metadata": {
    "colab": {
     "base_uri": "https://localhost:8080/"
    },
    "id": "2pyFcRFYbDtd",
    "outputId": "ff9ba4ad-8baf-439e-abc1-17051eadb0b3"
   },
   "outputs": [
    {
     "name": "stdout",
     "output_type": "stream",
     "text": [
      "Epoch 1/20\n",
      "25/25 [==============================] - 9s 268ms/step - loss: 4.0376\n",
      "Epoch 2/20\n",
      "25/25 [==============================] - 7s 269ms/step - loss: 3.1373\n",
      "Epoch 3/20\n",
      "25/25 [==============================] - 7s 263ms/step - loss: 2.7531\n",
      "Epoch 4/20\n",
      "25/25 [==============================] - 7s 271ms/step - loss: 2.5228\n",
      "Epoch 5/20\n",
      "25/25 [==============================] - 7s 263ms/step - loss: 2.3406\n",
      "Epoch 6/20\n",
      "25/25 [==============================] - 7s 272ms/step - loss: 2.2029\n",
      "Epoch 7/20\n",
      "25/25 [==============================] - 7s 266ms/step - loss: 2.0822\n",
      "Epoch 8/20\n",
      "25/25 [==============================] - 7s 271ms/step - loss: 1.9729\n",
      "Epoch 9/20\n",
      "25/25 [==============================] - 7s 266ms/step - loss: 1.8785\n",
      "Epoch 10/20\n",
      "25/25 [==============================] - 7s 266ms/step - loss: 1.7931\n",
      "Epoch 11/20\n",
      "25/25 [==============================] - 7s 266ms/step - loss: 1.7228\n",
      "Epoch 12/20\n",
      "25/25 [==============================] - 7s 271ms/step - loss: 1.6574\n",
      "Epoch 13/20\n",
      "25/25 [==============================] - 7s 270ms/step - loss: 1.5963\n",
      "Epoch 14/20\n",
      "25/25 [==============================] - 7s 270ms/step - loss: 1.5450\n",
      "Epoch 15/20\n",
      "25/25 [==============================] - 7s 264ms/step - loss: 1.4945\n",
      "Epoch 16/20\n",
      "25/25 [==============================] - 7s 264ms/step - loss: 1.4479\n",
      "Epoch 17/20\n",
      "25/25 [==============================] - 7s 267ms/step - loss: 1.4042\n",
      "Epoch 18/20\n",
      "25/25 [==============================] - 7s 271ms/step - loss: 1.3674\n",
      "Epoch 19/20\n",
      "25/25 [==============================] - 7s 267ms/step - loss: 1.3254\n",
      "Epoch 20/20\n",
      "25/25 [==============================] - 7s 272ms/step - loss: 1.2869\n"
     ]
    }
   ],
   "source": [
    "EPOCHS = 20\n",
    "history = model.fit(dataset, epochs = EPOCHS, callbacks=[checkpoint_callback])"
   ]
  },
  {
   "cell_type": "code",
   "execution_count": null,
   "metadata": {
    "id": "iPS7k1IbXU7g"
   },
   "outputs": [],
   "source": [
    "import matplotlib.pyplot as plt\n",
    "\n",
    "# Plotting the graph between epochs and loss function\n",
    "def plot_accuracy(history):\n",
    "  plt.plot(history.history['loss'])\n",
    "  plt.title('model loss')\n",
    "  plt.ylabel('Loss')\n",
    "  plt.xlabel('Epoch')\n",
    "  plt.legend(['loss'], loc='upper right')\n",
    "  plt.show()"
   ]
  },
  {
   "cell_type": "code",
   "execution_count": null,
   "metadata": {
    "colab": {
     "base_uri": "https://localhost:8080/",
     "height": 295
    },
    "id": "LCRKhoyYXV2N",
    "outputId": "cf2b7958-912a-41d6-9050-229a2b4d5ba4"
   },
   "outputs": [
    {
     "data": {
      "image/png": "[encoded data removed]",
      "text/plain": [
       "<Figure size 432x288 with 1 Axes>"
      ]
     },
     "metadata": {
      "needs_background": "light"
     },
     "output_type": "display_data"
    }
   ],
   "source": [
    "plot_accuracy(history)"
   ]
  },
  {
   "cell_type": "code",
   "execution_count": null,
   "metadata": {
    "colab": {
     "base_uri": "https://localhost:8080/"
    },
    "id": "B5JH7hSAcFBR",
    "outputId": "f549bc56-34a6-4b11-d665-32e2d542b657"
   },
   "outputs": [
    {
     "name": "stdout",
     "output_type": "stream",
     "text": [
      "Epoch 1/50\n",
      "25/25 [==============================] - 7s 272ms/step - loss: 1.2512\n",
      "Epoch 2/50\n",
      "25/25 [==============================] - 7s 265ms/step - loss: 1.2094\n",
      "Epoch 3/50\n",
      "25/25 [==============================] - 7s 266ms/step - loss: 1.1782\n",
      "Epoch 4/50\n",
      "25/25 [==============================] - 7s 272ms/step - loss: 1.1418\n",
      "Epoch 5/50\n",
      "25/25 [==============================] - 7s 266ms/step - loss: 1.1013\n",
      "Epoch 6/50\n",
      "25/25 [==============================] - 7s 270ms/step - loss: 1.0661\n",
      "Epoch 7/50\n",
      "25/25 [==============================] - 7s 271ms/step - loss: 1.0297\n",
      "Epoch 8/50\n",
      "25/25 [==============================] - 7s 270ms/step - loss: 0.9904\n",
      "Epoch 9/50\n",
      "25/25 [==============================] - 7s 272ms/step - loss: 0.9518\n",
      "Epoch 10/50\n",
      "25/25 [==============================] - 7s 266ms/step - loss: 0.9218\n",
      "Epoch 11/50\n",
      "25/25 [==============================] - 7s 269ms/step - loss: 0.8825\n",
      "Epoch 12/50\n",
      "25/25 [==============================] - 7s 270ms/step - loss: 0.8502\n",
      "Epoch 13/50\n",
      "25/25 [==============================] - 7s 267ms/step - loss: 0.8127\n",
      "Epoch 14/50\n",
      "25/25 [==============================] - 7s 265ms/step - loss: 0.7800\n",
      "Epoch 15/50\n",
      "25/25 [==============================] - 7s 266ms/step - loss: 0.7507\n",
      "Epoch 16/50\n",
      "25/25 [==============================] - 7s 270ms/step - loss: 0.7190\n",
      "Epoch 17/50\n",
      "25/25 [==============================] - 7s 270ms/step - loss: 0.6883\n",
      "Epoch 18/50\n",
      "25/25 [==============================] - 7s 266ms/step - loss: 0.6576\n",
      "Epoch 19/50\n",
      "25/25 [==============================] - 7s 271ms/step - loss: 0.6325\n",
      "Epoch 20/50\n",
      "25/25 [==============================] - 7s 266ms/step - loss: 0.6076\n",
      "Epoch 21/50\n",
      "25/25 [==============================] - 7s 273ms/step - loss: 0.5837\n",
      "Epoch 22/50\n",
      "25/25 [==============================] - 7s 269ms/step - loss: 0.5636\n",
      "Epoch 23/50\n",
      "25/25 [==============================] - 7s 265ms/step - loss: 0.5432\n",
      "Epoch 24/50\n",
      "25/25 [==============================] - 7s 266ms/step - loss: 0.5222\n",
      "Epoch 25/50\n",
      "25/25 [==============================] - 7s 272ms/step - loss: 0.5048\n",
      "Epoch 26/50\n",
      "25/25 [==============================] - 7s 269ms/step - loss: 0.4916\n",
      "Epoch 27/50\n",
      "25/25 [==============================] - 7s 265ms/step - loss: 0.4733\n",
      "Epoch 28/50\n",
      "25/25 [==============================] - 7s 265ms/step - loss: 0.4606\n",
      "Epoch 29/50\n",
      "25/25 [==============================] - 7s 264ms/step - loss: 0.4471\n",
      "Epoch 30/50\n",
      "25/25 [==============================] - 7s 266ms/step - loss: 0.4386\n",
      "Epoch 31/50\n",
      "25/25 [==============================] - 7s 266ms/step - loss: 0.4237\n",
      "Epoch 32/50\n",
      "25/25 [==============================] - 7s 271ms/step - loss: 0.4163\n",
      "Epoch 33/50\n",
      "25/25 [==============================] - 7s 266ms/step - loss: 0.4005\n",
      "Epoch 34/50\n",
      "25/25 [==============================] - 7s 271ms/step - loss: 0.3950\n",
      "Epoch 35/50\n",
      "25/25 [==============================] - 7s 265ms/step - loss: 0.3876\n",
      "Epoch 36/50\n",
      "25/25 [==============================] - 7s 267ms/step - loss: 0.3791\n",
      "Epoch 37/50\n",
      "25/25 [==============================] - 7s 271ms/step - loss: 0.3720\n",
      "Epoch 38/50\n",
      "25/25 [==============================] - 7s 272ms/step - loss: 0.3667\n",
      "Epoch 39/50\n",
      "25/25 [==============================] - 7s 271ms/step - loss: 0.3590\n",
      "Epoch 40/50\n",
      "25/25 [==============================] - 7s 266ms/step - loss: 0.3515\n",
      "Epoch 41/50\n",
      "25/25 [==============================] - 7s 269ms/step - loss: 0.3470\n",
      "Epoch 42/50\n",
      "25/25 [==============================] - 7s 270ms/step - loss: 0.3392\n",
      "Epoch 43/50\n",
      "25/25 [==============================] - 7s 266ms/step - loss: 0.3381\n",
      "Epoch 44/50\n",
      "25/25 [==============================] - 7s 270ms/step - loss: 0.3297\n",
      "Epoch 45/50\n",
      "25/25 [==============================] - 7s 270ms/step - loss: 0.3280\n",
      "Epoch 46/50\n",
      "25/25 [==============================] - 7s 270ms/step - loss: 0.3231\n",
      "Epoch 47/50\n",
      "25/25 [==============================] - 7s 269ms/step - loss: 0.3199\n",
      "Epoch 48/50\n",
      "25/25 [==============================] - 7s 264ms/step - loss: 0.3150\n",
      "Epoch 49/50\n",
      "25/25 [==============================] - 7s 264ms/step - loss: 0.3114\n",
      "Epoch 50/50\n",
      "25/25 [==============================] - 7s 266ms/step - loss: 0.3070\n"
     ]
    }
   ],
   "source": [
    "EPOCHS = 50\n",
    "history = model.fit(dataset, epochs = EPOCHS, callbacks=[checkpoint_callback])"
   ]
  },
  {
   "cell_type": "code",
   "execution_count": null,
   "metadata": {
    "colab": {
     "base_uri": "https://localhost:8080/",
     "height": 295
    },
    "id": "hpcyaZB6XcqL",
    "outputId": "c8275362-efb8-485e-9fbe-af1c54549d69"
   },
   "outputs": [
    {
     "data": {
      "image/png": "[encoded data removed]",
      "text/plain": [
       "<Figure size 432x288 with 1 Axes>"
      ]
     },
     "metadata": {
      "needs_background": "light"
     },
     "output_type": "display_data"
    }
   ],
   "source": [
    "plot_accuracy(history)"
   ]
  },
  {
   "cell_type": "markdown",
   "metadata": {
    "id": "EyYPDOyDZj-w"
   },
   "source": [
    "Generate text\n",
    "\n",
    "Restore the latest checkpoint\n",
    "To keep this prediction step simple, use a batch size of 1.\n",
    "\n",
    "Because of the way the RNN state is passed from timestep to timestep, the model only accepts a fixed batch size once built.\n",
    "\n",
    "To run the model with a different batch_size, we need to rebuild the model and restore the weights from the checkpoint."
   ]
  },
  {
   "cell_type": "code",
   "execution_count": null,
   "metadata": {
    "colab": {
     "base_uri": "https://localhost:8080/"
    },
    "id": "HBLssbAEcNr5",
    "outputId": "676f0a59-c8b0-4bbc-d21c-9ed1db4e141c"
   },
   "outputs": [
    {
     "name": "stdout",
     "output_type": "stream",
     "text": [
      "Model: \"sequential_3\"\n",
      "_________________________________________________________________\n",
      " Layer (type)                Output Shape              Param #   \n",
      "=================================================================\n",
      " embedding_3 (Embedding)     (1, None, 256)            20736     \n",
      "                                                                 \n",
      " lstm_1 (LSTM)               (1, None, 1024)           5246976   \n",
      "                                                                 \n",
      " dense_4 (Dense)             (1, None, 50)             51250     \n",
      "                                                                 \n",
      " dropout_1 (Dropout)         (1, None, 50)             0         \n",
      "                                                                 \n",
      " dense_5 (Dense)             (1, None, 81)             4131      \n",
      "                                                                 \n",
      "=================================================================\n",
      "Total params: 5,323,093\n",
      "Trainable params: 5,323,093\n",
      "Non-trainable params: 0\n",
      "_________________________________________________________________\n"
     ]
    }
   ],
   "source": [
    "# Intilizing the latest check point\n",
    "tf.train.latest_checkpoint(checkpoint_dir)\n",
    "\n",
    "# Model build\n",
    "model = build_model(vocab_size, embedding_dim, rnn_units, batch_size = 1)\n",
    "\n",
    "# Loading the weights from latest checkpoint from directory\n",
    "model.load_weights(tf.train.latest_checkpoint(checkpoint_dir))\n",
    "\n",
    "# Re-building the model\n",
    "model.build(tf.TensorShape([1, None]))\n",
    "\n",
    "# Model Summary\n",
    "model.summary()"
   ]
  },
  {
   "cell_type": "code",
   "execution_count": null,
   "metadata": {
    "colab": {
     "base_uri": "https://localhost:8080/",
     "height": 644
    },
    "id": "43Bzuwf_nyd0",
    "outputId": "2622c2e0-8b9c-41c6-c6a7-8abbfea52bbd"
   },
   "outputs": [
    {
     "data": {
      "image/png": "[encoded data removed]",
      "text/plain": [
       "<IPython.core.display.Image object>"
      ]
     },
     "execution_count": 43,
     "metadata": {},
     "output_type": "execute_result"
    }
   ],
   "source": [
    "# Model Visualization\n",
    "tf.keras.utils.plot_model(model, show_shapes = True, show_layer_names = True)"
   ]
  },
  {
   "cell_type": "markdown",
   "metadata": {
    "id": "IAEG2HWBZZd6"
   },
   "source": [
    "The prediction loop\n",
    "\n",
    "The following code block generates the text:\n",
    "\n",
    "It Starts by choosing a start string, initializing the RNN state and setting the number of characters to generate.\n",
    "\n",
    "Get the prediction distribution of the next character using the start string and the RNN state.\n",
    "\n",
    "Then, use a categorical distribution to calculate the index of the predicted character. Use this predicted character as our next input to the model.\n",
    "\n",
    "The RNN state returned by the model is fed back into the model so that it now has more context, instead than only one character. After predicting the next character, the modified RNN states are again fed back into the model, which is how it learns as it gets more context from the previously predicted characters."
   ]
  },
  {
   "cell_type": "code",
   "execution_count": null,
   "metadata": {
    "id": "S8771OT3eKyl"
   },
   "outputs": [],
   "source": [
    "def generate_text(model, start_string):\n",
    "  # Evaluation step (generating text using the learned model)\n",
    "\n",
    "  # Number of characters to generate\n",
    "  num_generate = 1000\n",
    "\n",
    "  # Converting our start string to numbers (vectorizing)\n",
    "  input_eval = [char2idx[s] for s in start_string]\n",
    "  input_eval = tf.expand_dims(input_eval, 0)\n",
    "\n",
    "  # Empty string to store our results\n",
    "  text_generated = []\n",
    "\n",
    "  # Low temperatures results in more predictable text.\n",
    "  # Higher temperatures results in more surprising text.\n",
    "  # Experiment to find the best setting.\n",
    "  temperature = 1.0\n",
    "\n",
    "  # Here batch size == 1\n",
    "  model.reset_states()\n",
    "  for i in range(num_generate):\n",
    "    predictions = model(input_eval)\n",
    "    # remove the batch dimension\n",
    "    predictions = tf.squeeze(predictions, 0)\n",
    "\n",
    "    # using a categorical distribution to predict the character returned by the model\n",
    "    predictions = predictions / temperature\n",
    "    predicted_id = tf.random.categorical(predictions, num_samples=1)[-1,0].numpy()\n",
    "\n",
    "    # We pass the predicted character as the next input to the model\n",
    "    # along with the previous hidden state\n",
    "    input_eval = tf.expand_dims([predicted_id], 0)\n",
    "\n",
    "    text_generated.append(idx2char[predicted_id])\n",
    "\n",
    "  return (start_string + ''.join(text_generated))"
   ]
  },
  {
   "cell_type": "markdown",
   "metadata": {
    "id": "O8_3rUmYaHvL"
   },
   "source": [
    "Looking at the generated text, you'll see the model knows when to capitalize, make paragraphs and imitates a hound of baskerville - like writing vocabulary. With the more number of training epochs, it has formed coherent sentences."
   ]
  },
  {
   "cell_type": "code",
   "execution_count": null,
   "metadata": {
    "colab": {
     "base_uri": "https://localhost:8080/"
    },
    "id": "pfGP-zgveN4d",
    "outputId": "ca9d88de-20e0-4e18-aea7-d5d5a0d68ab1"
   },
   "outputs": [
    {
     "name": "stdout",
     "output_type": "stream",
     "text": [
      "mr. sherlock holmes: shames convict upon the succession.\"\r\n",
      "  \"Exactly. This chance of the Mrire to came to this morth Cross Mortider that she was telling the truth, or, the resile grown by a stealthy\r\n",
      "step passible round the tor of something to me kits you,\" said I.\r\n",
      "  \"Yes, I am Evormed to see you Mr. Mortimer, but they shilling-\r\n",
      "ing it his deligiant streams with creved\r\n",
      "she looked the most cigarettes\r\n",
      "without my freended in bent and\r\n",
      "pursuit we have got a lict! In this great for the arrival in\r\n",
      "the following presents several be luvid you to delice the man down to discover\r\n",
      "myself until I had an entered the stone huts would give you my leison where you are gethere is no reason Charing\r\n",
      "my edes first or visit the fog was lobes expecting that ly connection with the famous card in my pocket\r\n",
      "with these were up in my power  with the trae, and the present asion of some more\r\n",
      "and from the soutTor was theer that some foul kepolort to be supernatural. You could\r\n",
      "had to sen this, the fellow speck us nothing super\n"
     ]
    }
   ],
   "source": [
    "print(generate_text(model, start_string=u\"mr. sherlock holmes: \"))"
   ]
  },
  {
   "cell_type": "code",
   "execution_count": null,
   "metadata": {
    "colab": {
     "base_uri": "https://localhost:8080/"
    },
    "id": "CgS97j5FeVkd",
    "outputId": "738a4f4d-a113-4779-9242-178405ec11a7"
   },
   "outputs": [
    {
     "name": "stdout",
     "output_type": "stream",
     "text": [
      "hound: I as Dr. Mortimer, \"why should we not seize it, my inst the dew blacker and ske will contino Husy until the our\r\n",
      "side wo watching fellow who were for the stone huts would give them the\r\n",
      "while with a skering glance in one of these slidder and smot the tosse been mind to the story of the family, though I never thought of taking\r\n",
      "it seriously been confined to the indee of the nature of years. That is wish that you stimulated me I meant, to ; Holmes\r\n",
      "sat the old falling blifart which took a house out of the twe, diswict the investi\r\n",
      "window. The setting out on the interest which he took in our curious companion.\r\n",
      "  \"I presume, sir,\" said he at last, \"there is a woman's eyes that\r\n",
      "she was a beard mirethe broad moor, and behind him the direct of his\r\n",
      "fanien and read in orry on the stable. From the time\r\n",
      "ten in such haste. Bith obtain with our friend fit fear from the\r\n",
      "     inightral telegram to the special eing  gr some little time you a tell them that I have none\r\n",
      "thinknot of your foodgent t\n"
     ]
    }
   ],
   "source": [
    "print(generate_text(model, start_string=u\"hound: \"))"
   ]
  }
 ],
 "metadata": {
  "accelerator": "GPU",
  "colab": {
   "collapsed_sections": [],
   "name": "ICP 5 - Text Generation RNN/LSTM.ipynb",
   "provenance": []
  },
  "kernelspec": {
   "display_name": "Python 3 (ipykernel)",
   "language": "python",
   "name": "python3"
  },
  "language_info": {
   "codemirror_mode": {
    "name": "ipython",
    "version": 3
   },
   "file_extension": ".py",
   "mimetype": "text/x-python",
   "name": "python",
   "nbconvert_exporter": "python",
   "pygments_lexer": "ipython3",
   "version": "3.7.13"
  }
 },
 "nbformat": 4,
 "nbformat_minor": 1
}
